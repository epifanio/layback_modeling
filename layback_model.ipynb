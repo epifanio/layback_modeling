{
 "cells": [
  {
   "cell_type": "code",
   "execution_count": null,
   "metadata": {
    "colab": {
     "base_uri": "https://localhost:8080/",
     "height": 238
    },
    "id": "bPTa0i81CM-4",
    "outputId": "9e75379d-5dba-42e9-8dfc-240ffa6397bc",
    "tags": []
   },
   "outputs": [],
   "source": [
    "import os\n",
    "import pprint\n",
    "import tensorflow as tf"
   ]
  },
  {
   "cell_type": "code",
   "execution_count": null,
   "metadata": {
    "id": "1RTg8DER11Vj",
    "tags": []
   },
   "outputs": [],
   "source": [
    "import pandas as pd"
   ]
  },
  {
   "cell_type": "code",
   "execution_count": null,
   "metadata": {
    "id": "w9iqDsux83KY",
    "tags": []
   },
   "outputs": [],
   "source": [
    "import datetime as dt"
   ]
  },
  {
   "cell_type": "code",
   "execution_count": null,
   "metadata": {
    "colab": {
     "base_uri": "https://localhost:8080/",
     "height": 71
    },
    "id": "Ji06KrJxAFkj",
    "outputId": "a273bb7a-2fd2-46db-bd3e-8ff5c859d6ab",
    "tags": []
   },
   "outputs": [],
   "source": [
    "import seaborn as sns"
   ]
  },
  {
   "cell_type": "code",
   "execution_count": null,
   "metadata": {
    "id": "d0rHJGtqPJVO",
    "tags": []
   },
   "outputs": [],
   "source": [
    "import matplotlib.pyplot as plt"
   ]
  },
  {
   "cell_type": "code",
   "execution_count": null,
   "metadata": {
    "id": "aw4-6M0iFxpR",
    "tags": []
   },
   "outputs": [],
   "source": [
    "import numpy as np"
   ]
  },
  {
   "cell_type": "code",
   "execution_count": null,
   "metadata": {
    "tags": []
   },
   "outputs": [],
   "source": [
    "model_data = pd.read_csv('model_data.csv')"
   ]
  },
  {
   "cell_type": "code",
   "execution_count": null,
   "metadata": {
    "tags": []
   },
   "outputs": [],
   "source": [
    "model_data = model_data.set_index(pd.to_datetime(model_data['index'], unit='ns'))"
   ]
  },
  {
   "cell_type": "code",
   "execution_count": null,
   "metadata": {
    "tags": []
   },
   "outputs": [],
   "source": [
    "model_data.drop(columns='index', inplace=True)"
   ]
  },
  {
   "cell_type": "code",
   "execution_count": null,
   "metadata": {
    "tags": []
   },
   "outputs": [],
   "source": [
    "model_data"
   ]
  },
  {
   "cell_type": "code",
   "execution_count": null,
   "metadata": {
    "colab": {
     "base_uri": "https://localhost:8080/",
     "height": 136
    },
    "id": "abcbMaeH9_XV",
    "outputId": "0764e337-3217-4320-c7c6-0c0f35352966",
    "tags": []
   },
   "outputs": [],
   "source": [
    "for i in model_data.columns:\n",
    "    print(i, model_data[i].min(), model_data[i].max())"
   ]
  },
  {
   "cell_type": "code",
   "execution_count": null,
   "metadata": {
    "colab": {
     "base_uri": "https://localhost:8080/",
     "height": 34
    },
    "id": "k5rHzmCn-DRn",
    "outputId": "f1f96e4e-c9c2-41b9-c08c-7b486bc515a3",
    "tags": []
   },
   "outputs": [],
   "source": [
    "depth_diff = model_data.depth_hbc.abs() - model_data.V_Depth.abs()\n",
    "depth_diff.min(), depth_diff.max()"
   ]
  },
  {
   "cell_type": "code",
   "execution_count": null,
   "metadata": {
    "tags": []
   },
   "outputs": [],
   "source": [
    "model_data = model_data.loc[~model_data.index.duplicated(), :]"
   ]
  },
  {
   "cell_type": "code",
   "execution_count": null,
   "metadata": {
    "colab": {
     "base_uri": "https://localhost:8080/",
     "height": 595
    },
    "id": "A1ep5RxkAB2S",
    "outputId": "a5862516-de35-4e23-b677-dc4d85105580",
    "tags": []
   },
   "outputs": [],
   "source": [
    "sns.pairplot(model_data[[\"speed\", \"Water_Depth\", \"Altimeter\"]], diag_kind=\"kde\")"
   ]
  },
  {
   "cell_type": "code",
   "execution_count": null,
   "metadata": {
    "colab": {
     "base_uri": "https://localhost:8080/",
     "height": 136
    },
    "id": "N4PyprqvByzj",
    "outputId": "59183d9e-be5f-41b7-9ade-a474fc10c63e",
    "tags": []
   },
   "outputs": [],
   "source": [
    "for i in model_data.columns:\n",
    "    print(i, model_data[i].min(), model_data[i].max())"
   ]
  },
  {
   "cell_type": "markdown",
   "metadata": {
    "id": "bQLRWVnX-OL-"
   },
   "source": [
    "## Filtering data\n",
    "* HBC at the seafloor: `Water_Depth: [40, 120]` $m$\n",
    "* Vessel speed is in the range `[2, 7]` $kn$ \n",
    "* Distance between Vessel and HBC less than a threshold  `[0, 300]` $m$\n",
    "* HBS distance from seafloor in the range `[0, 5]` $m$"
   ]
  },
  {
   "cell_type": "code",
   "execution_count": null,
   "metadata": {
    "id": "ETkKjVPvCGSo",
    "tags": []
   },
   "outputs": [],
   "source": [
    "model_data_test = model_data.copy()\n",
    "\n",
    "model_data_test = model_data_test[\n",
    "    (model_data_test.Water_Depth >= 40) & (model_data_test.Water_Depth <= 120)\n",
    "]\n",
    "\n",
    "model_data_test = model_data_test[\n",
    "    (model_data_test.Altimeter >= 0) & (model_data_test.Altimeter <= 4)\n",
    "]\n",
    "\n",
    "model_data_test = model_data_test[\n",
    "    (model_data_test.speed >= 2) & (model_data_test.speed <= 5)\n",
    "]\n",
    "\n",
    "model_data_test = model_data_test[\n",
    "    (model_data_test.distance >= 0) & (model_data_test.distance <= 300)\n",
    "]"
   ]
  },
  {
   "cell_type": "code",
   "execution_count": null,
   "metadata": {
    "colab": {
     "base_uri": "https://localhost:8080/",
     "height": 34
    },
    "id": "OUZOGf0LCvLr",
    "outputId": "35054704-6af7-40d1-fc06-9a79bec0c7e7",
    "tags": []
   },
   "outputs": [],
   "source": [
    "model_data_test.shape"
   ]
  },
  {
   "cell_type": "code",
   "execution_count": null,
   "metadata": {
    "colab": {
     "base_uri": "https://localhost:8080/",
     "height": 584
    },
    "id": "rgOxMWZAEkng",
    "outputId": "e3f80df2-8298-48ba-ce27-226f4f5434a7",
    "tags": []
   },
   "outputs": [],
   "source": [
    "sns.pairplot(model_data_test[[\"speed\", \"Water_Depth\", \"Altimeter\"]], diag_kind=\"kde\")"
   ]
  },
  {
   "cell_type": "code",
   "execution_count": null,
   "metadata": {
    "tags": []
   },
   "outputs": [],
   "source": [
    "model_data_test = model_data_test[model_data_test.V_Depth >= 30]"
   ]
  },
  {
   "cell_type": "code",
   "execution_count": null,
   "metadata": {
    "tags": []
   },
   "outputs": [],
   "source": [
    "sns.pairplot(model_data_test[[\"speed\", \"Water_Depth\", \"Altimeter\"]], diag_kind=\"kde\")"
   ]
  },
  {
   "cell_type": "markdown",
   "metadata": {
    "id": "r93Pj9MfEgSh"
   },
   "source": [
    "# Regression"
   ]
  },
  {
   "cell_type": "code",
   "execution_count": null,
   "metadata": {
    "id": "9qY00zVXCx0A",
    "tags": []
   },
   "outputs": [],
   "source": [
    "import tensorflow as tf\n",
    "from sklearn.model_selection import train_test_split\n",
    "from sklearn.preprocessing import MinMaxScaler, StandardScaler\n",
    "from tensorflow import keras"
   ]
  },
  {
   "cell_type": "code",
   "execution_count": null,
   "metadata": {
    "id": "jR-VNceZE1vW",
    "tags": []
   },
   "outputs": [],
   "source": [
    "data = model_data_test[[\"speed\", \"Water_Depth\", \"Altimeter\"]].values[1:]"
   ]
  },
  {
   "cell_type": "code",
   "execution_count": null,
   "metadata": {
    "colab": {
     "base_uri": "https://localhost:8080/",
     "height": 266
    },
    "id": "ZzV_rEFgE7IG",
    "outputId": "0849ede7-470f-4807-93ac-3ea801897422",
    "tags": []
   },
   "outputs": [],
   "source": [
    "model_data_test_stats = model_data_test.describe()\n",
    "# model_data_test_stats.pop(\"\")\n",
    "model_data_test_stats = model_data_test_stats.transpose()\n",
    "model_data_test_stats"
   ]
  },
  {
   "cell_type": "code",
   "execution_count": null,
   "metadata": {
    "id": "lkFqdj8PFDa-",
    "tags": []
   },
   "outputs": [],
   "source": [
    "data = model_data_test[[\"speed\", \"Water_Depth\", \"Altimeter\"]].values[1:]"
   ]
  },
  {
   "cell_type": "code",
   "execution_count": null,
   "metadata": {
    "tags": []
   },
   "outputs": [],
   "source": [
    "#data = model_data_test[[\"speed\", \"Water_Depth\"]].values[1:]"
   ]
  },
  {
   "cell_type": "code",
   "execution_count": null,
   "metadata": {
    "tags": []
   },
   "outputs": [],
   "source": [
    "data = model_data_test[[\"speed\", \"Altimeter\"]].values[1:]"
   ]
  },
  {
   "cell_type": "code",
   "execution_count": null,
   "metadata": {
    "colab": {
     "base_uri": "https://localhost:8080/",
     "height": 34
    },
    "id": "KVvwQo5qFfaD",
    "outputId": "05b10250-07d3-40d9-e523-0658d7cef330",
    "tags": []
   },
   "outputs": [],
   "source": [
    "data.shape"
   ]
  },
  {
   "cell_type": "code",
   "execution_count": null,
   "metadata": {
    "id": "-cfREXo3FiLh",
    "tags": []
   },
   "outputs": [],
   "source": [
    "target = model_data_test[[\"distance\"]].values[1:]"
   ]
  },
  {
   "cell_type": "code",
   "execution_count": null,
   "metadata": {
    "id": "YQ8OWWibFk7P",
    "tags": []
   },
   "outputs": [],
   "source": [
    "target = target / target.max()"
   ]
  },
  {
   "cell_type": "code",
   "execution_count": null,
   "metadata": {
    "id": "OUx5MKcCFntN",
    "tags": []
   },
   "outputs": [],
   "source": [
    "X_train_full, X_test, y_train_full, y_test = train_test_split(\n",
    "    data, target, random_state=42\n",
    ")\n",
    "\n",
    "X_train, X_valid, y_train, y_valid = train_test_split(\n",
    "    X_train_full, y_train_full, random_state=42\n",
    ")"
   ]
  },
  {
   "cell_type": "code",
   "execution_count": null,
   "metadata": {
    "id": "DC1VpAZ_FsWa",
    "tags": []
   },
   "outputs": [],
   "source": [
    "np.random.seed(42)\n",
    "tf.random.set_seed(42)"
   ]
  },
  {
   "cell_type": "code",
   "execution_count": null,
   "metadata": {
    "id": "z-yzuPTTFvDo",
    "tags": []
   },
   "outputs": [],
   "source": [
    "scaler = StandardScaler()\n",
    "# scaler = MinMaxScaler()\n",
    "\n",
    "X_train = scaler.fit_transform(X_train)\n",
    "X_valid = scaler.transform(X_valid)\n",
    "X_test = scaler.transform(X_test)"
   ]
  },
  {
   "cell_type": "code",
   "execution_count": null,
   "metadata": {
    "id": "kDXtTlnXD2JM",
    "tags": []
   },
   "outputs": [],
   "source": [
    "# !pip install git+https://github.com/tensorflow/docs"
   ]
  },
  {
   "cell_type": "code",
   "execution_count": null,
   "metadata": {
    "colab": {
     "base_uri": "https://localhost:8080/",
     "height": 333
    },
    "id": "twNcAZQPF3ww",
    "outputId": "71c73d25-4ee4-4777-e822-dddea528f139",
    "tags": []
   },
   "outputs": [],
   "source": [
    "import tensorflow_docs as tfdocs\n",
    "import tensorflow_docs.modeling\n",
    "import tensorflow_docs.plots"
   ]
  },
  {
   "cell_type": "code",
   "execution_count": null,
   "metadata": {
    "id": "xT36-0buGDtd",
    "tags": []
   },
   "outputs": [],
   "source": [
    "model = keras.models.Sequential(\n",
    "    [\n",
    "        keras.layers.Dense(\n",
    "            64,\n",
    "            activation=\"relu\",\n",
    "            input_shape=X_train.shape[1:],\n",
    "            kernel_regularizer=keras.regularizers.l2(0.01),\n",
    "            activity_regularizer=keras.regularizers.l1(0.01),\n",
    "        ),\n",
    "        keras.layers.Dense(30, activation=\"relu\", input_shape=X_train.shape[1:]),\n",
    "        keras.layers.Dense(4, activation=\"relu\"),\n",
    "        keras.layers.Dense(1, activation=\"linear\"),  # sigmoid, linear\n",
    "    ]\n",
    ")"
   ]
  },
  {
   "cell_type": "code",
   "execution_count": null,
   "metadata": {
    "id": "8H2Ffa9tGaU_",
    "tags": []
   },
   "outputs": [],
   "source": [
    "early_stop = keras.callbacks.EarlyStopping(monitor=\"val_loss\", patience=10)"
   ]
  },
  {
   "cell_type": "code",
   "execution_count": null,
   "metadata": {
    "id": "TjdhFXm8GfGl",
    "tags": []
   },
   "outputs": [],
   "source": [
    "lr = 1e-4\n",
    "decay = 1e-6\n",
    "\n",
    "opt = keras.optimizers.Adam(learning_rate=lr)"
   ]
  },
  {
   "cell_type": "code",
   "execution_count": null,
   "metadata": {
    "id": "tcz1WUVOGjaK",
    "tags": []
   },
   "outputs": [],
   "source": [
    "model.compile(loss=\"mean_squared_error\", optimizer=opt, metrics=[\"mae\", \"mse\"])"
   ]
  },
  {
   "cell_type": "code",
   "execution_count": null,
   "metadata": {
    "id": "U5nr1SjADzHR"
   },
   "outputs": [],
   "source": []
  },
  {
   "cell_type": "code",
   "execution_count": null,
   "metadata": {
    "id": "G6Jka3iWGl2e",
    "tags": []
   },
   "outputs": [],
   "source": [
    "epochs = 1000"
   ]
  },
  {
   "cell_type": "code",
   "execution_count": null,
   "metadata": {
    "colab": {
     "base_uri": "https://localhost:8080/",
     "height": 901
    },
    "id": "1lFy9BCHGqwE",
    "outputId": "1dd0830d-a93b-4a8b-e287-8b9b40c50b71",
    "tags": []
   },
   "outputs": [],
   "source": [
    "history = model.fit(\n",
    "    X_train,\n",
    "    y_train,\n",
    "    epochs=epochs,\n",
    "    validation_data=(X_valid, y_valid),\n",
    "    callbacks=[early_stop, tfdocs.modeling.EpochDots()],\n",
    ")"
   ]
  },
  {
   "cell_type": "code",
   "execution_count": null,
   "metadata": {
    "colab": {
     "base_uri": "https://localhost:8080/",
     "height": 34
    },
    "id": "k8FmRuLuHWQ0",
    "outputId": "4bf91e40-1282-4961-db65-b8f34b755630",
    "tags": []
   },
   "outputs": [],
   "source": [
    "mse_test = model.evaluate(X_test, y_test)"
   ]
  },
  {
   "cell_type": "code",
   "execution_count": null,
   "metadata": {
    "colab": {
     "base_uri": "https://localhost:8080/",
     "height": 34
    },
    "id": "HTpyWyZBOJAO",
    "outputId": "f4ff8702-8cc1-44a3-e88a-765b6e103b6b",
    "tags": []
   },
   "outputs": [],
   "source": [
    "mse_test"
   ]
  },
  {
   "cell_type": "code",
   "execution_count": null,
   "metadata": {
    "id": "aFf0TmIROREy",
    "tags": []
   },
   "outputs": [],
   "source": [
    "X_new = X_test\n",
    "y_pred = model.predict(X_new)"
   ]
  },
  {
   "cell_type": "code",
   "execution_count": null,
   "metadata": {
    "colab": {
     "base_uri": "https://localhost:8080/",
     "height": 136
    },
    "id": "0xxg1CkIOS3S",
    "outputId": "f7329f6e-bae7-43b3-a9f9-05120d2b1943",
    "tags": []
   },
   "outputs": [],
   "source": [
    "y_pred"
   ]
  },
  {
   "cell_type": "code",
   "execution_count": null,
   "metadata": {
    "id": "cThxB5hsOY-8",
    "tags": []
   },
   "outputs": [],
   "source": [
    "rescale = model_data_test[[\"distance\"]].values[1:].max()"
   ]
  },
  {
   "cell_type": "code",
   "execution_count": null,
   "metadata": {
    "tags": []
   },
   "outputs": [],
   "source": [
    "# rescale"
   ]
  },
  {
   "cell_type": "code",
   "execution_count": null,
   "metadata": {
    "colab": {
     "base_uri": "https://localhost:8080/",
     "height": 136
    },
    "id": "q2PX33R9Oa6-",
    "outputId": "2a79827a-ac3e-4bad-cfc4-87ec252ad2d7",
    "tags": []
   },
   "outputs": [],
   "source": [
    "y_pred * rescale"
   ]
  },
  {
   "cell_type": "code",
   "execution_count": null,
   "metadata": {
    "colab": {
     "base_uri": "https://localhost:8080/",
     "height": 136
    },
    "id": "F1mAcjZzOjSj",
    "outputId": "6ab53682-a660-407a-8c9a-f6413ab79e53",
    "tags": []
   },
   "outputs": [],
   "source": [
    "y_test * rescale"
   ]
  },
  {
   "cell_type": "code",
   "execution_count": null,
   "metadata": {
    "id": "WYAF7clcOnou",
    "tags": []
   },
   "outputs": [],
   "source": [
    "err = (y_pred * rescale) - (y_test * rescale)"
   ]
  },
  {
   "cell_type": "code",
   "execution_count": null,
   "metadata": {
    "colab": {
     "base_uri": "https://localhost:8080/",
     "height": 136
    },
    "id": "naiC6N2LOpAU",
    "outputId": "4f6b7576-670b-4b97-9918-e870fb5d87ca",
    "tags": []
   },
   "outputs": [],
   "source": [
    "err"
   ]
  },
  {
   "cell_type": "code",
   "execution_count": null,
   "metadata": {
    "colab": {
     "base_uri": "https://localhost:8080/",
     "height": 34
    },
    "id": "t4o7cNZoQPGA",
    "outputId": "972a9784-d508-4d42-e254-09bc11da78b0",
    "tags": []
   },
   "outputs": [],
   "source": [
    "err.min(), err.max(), err.mean()"
   ]
  },
  {
   "cell_type": "code",
   "execution_count": null,
   "metadata": {
    "colab": {
     "base_uri": "https://localhost:8080/",
     "height": 279
    },
    "id": "xXQlirnYO09z",
    "outputId": "f659fe89-e703-469c-e9dd-53ce2b4f6f0b",
    "tags": []
   },
   "outputs": [],
   "source": [
    "plotter = tfdocs.plots.HistoryPlotter(smoothing_std=2)\n",
    "plotter.plot({\"Basic\": history}, metric=\"mse\")"
   ]
  },
  {
   "cell_type": "code",
   "execution_count": null,
   "metadata": {
    "colab": {
     "base_uri": "https://localhost:8080/",
     "height": 279
    },
    "id": "18dJGiCCPVkE",
    "outputId": "5efc88a1-0d17-4444-d2ab-bf61aac795b1",
    "tags": []
   },
   "outputs": [],
   "source": [
    "plotter = tfdocs.plots.HistoryPlotter(smoothing_std=2)\n",
    "plotter.plot({\"Basic\": history}, metric=\"mae\")"
   ]
  },
  {
   "cell_type": "code",
   "execution_count": null,
   "metadata": {
    "colab": {
     "base_uri": "https://localhost:8080/",
     "height": 265
    },
    "id": "bKj-hXXcOy6X",
    "outputId": "c6d39cad-9998-47a0-d6ef-36f851dffe51",
    "tags": []
   },
   "outputs": [],
   "source": [
    "_ = plt.hist(err, bins=\"auto\")"
   ]
  },
  {
   "cell_type": "code",
   "execution_count": null,
   "metadata": {
    "id": "pgU3gfM5Pzcb",
    "tags": []
   },
   "outputs": [],
   "source": [
    "model.save(\"hbc_layback.h5\")"
   ]
  },
  {
   "cell_type": "code",
   "execution_count": null,
   "metadata": {
    "tags": []
   },
   "outputs": [],
   "source": [
    "rescale"
   ]
  },
  {
   "cell_type": "code",
   "execution_count": null,
   "metadata": {
    "tags": []
   },
   "outputs": [],
   "source": [
    "X_new"
   ]
  },
  {
   "cell_type": "code",
   "execution_count": null,
   "metadata": {},
   "outputs": [],
   "source": []
  }
 ],
 "metadata": {
  "colab": {
   "collapsed_sections": [],
   "machine_shape": "hm",
   "name": "HBC_layback_model.ipynb",
   "provenance": [],
   "toc_visible": true
  },
  "kernelspec": {
   "display_name": "Python (rapids-23.02)",
   "language": "python",
   "name": "rapids-23.02"
  },
  "language_info": {
   "codemirror_mode": {
    "name": "ipython",
    "version": 3
   },
   "file_extension": ".py",
   "mimetype": "text/x-python",
   "name": "python",
   "nbconvert_exporter": "python",
   "pygments_lexer": "ipython3",
   "version": "3.10.8"
  }
 },
 "nbformat": 4,
 "nbformat_minor": 4
}
